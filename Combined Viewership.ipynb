{
 "cells": [
  {
   "cell_type": "markdown",
   "metadata": {},
   "source": [
    "# Streaming\n",
    "This notebook is the original work of Xavier López\n",
    "\n",
    "## 0. Read Data"
   ]
  },
  {
   "cell_type": "code",
   "execution_count": 1,
   "metadata": {},
   "outputs": [],
   "source": [
    "import pandas as pd"
   ]
  },
  {
   "cell_type": "code",
   "execution_count": 2,
   "metadata": {},
   "outputs": [
    {
     "data": {
      "text/html": [
       "<div>\n",
       "<style scoped>\n",
       "    .dataframe tbody tr th:only-of-type {\n",
       "        vertical-align: middle;\n",
       "    }\n",
       "\n",
       "    .dataframe tbody tr th {\n",
       "        vertical-align: top;\n",
       "    }\n",
       "\n",
       "    .dataframe thead th {\n",
       "        text-align: right;\n",
       "    }\n",
       "</style>\n",
       "<table border=\"1\" class=\"dataframe\">\n",
       "  <thead>\n",
       "    <tr style=\"text-align: right;\">\n",
       "      <th></th>\n",
       "      <th>timestamp</th>\n",
       "      <th>xQcOW</th>\n",
       "      <th>NICKMERCS</th>\n",
       "      <th>summit1g</th>\n",
       "    </tr>\n",
       "  </thead>\n",
       "  <tbody>\n",
       "    <tr>\n",
       "      <th>0</th>\n",
       "      <td>1612915218356</td>\n",
       "      <td>72396</td>\n",
       "      <td>NaN</td>\n",
       "      <td>35144.0</td>\n",
       "    </tr>\n",
       "    <tr>\n",
       "      <th>1</th>\n",
       "      <td>1612915277899</td>\n",
       "      <td>67165</td>\n",
       "      <td>NaN</td>\n",
       "      <td>34762.0</td>\n",
       "    </tr>\n",
       "    <tr>\n",
       "      <th>2</th>\n",
       "      <td>1612915337312</td>\n",
       "      <td>73907</td>\n",
       "      <td>NaN</td>\n",
       "      <td>34504.0</td>\n",
       "    </tr>\n",
       "    <tr>\n",
       "      <th>3</th>\n",
       "      <td>1612915397655</td>\n",
       "      <td>76404</td>\n",
       "      <td>NaN</td>\n",
       "      <td>34505.0</td>\n",
       "    </tr>\n",
       "    <tr>\n",
       "      <th>4</th>\n",
       "      <td>1612915457875</td>\n",
       "      <td>76404</td>\n",
       "      <td>NaN</td>\n",
       "      <td>35144.0</td>\n",
       "    </tr>\n",
       "    <tr>\n",
       "      <th>...</th>\n",
       "      <td>...</td>\n",
       "      <td>...</td>\n",
       "      <td>...</td>\n",
       "      <td>...</td>\n",
       "    </tr>\n",
       "    <tr>\n",
       "      <th>95</th>\n",
       "      <td>1612920918530</td>\n",
       "      <td>75752</td>\n",
       "      <td>60153.0</td>\n",
       "      <td>22823.0</td>\n",
       "    </tr>\n",
       "    <tr>\n",
       "      <th>96</th>\n",
       "      <td>1612920978019</td>\n",
       "      <td>86198</td>\n",
       "      <td>24010.0</td>\n",
       "      <td>36330.0</td>\n",
       "    </tr>\n",
       "    <tr>\n",
       "      <th>97</th>\n",
       "      <td>1612921039478</td>\n",
       "      <td>70673</td>\n",
       "      <td>60837.0</td>\n",
       "      <td>29870.0</td>\n",
       "    </tr>\n",
       "    <tr>\n",
       "      <th>98</th>\n",
       "      <td>1612921098812</td>\n",
       "      <td>87831</td>\n",
       "      <td>20567.0</td>\n",
       "      <td>30565.0</td>\n",
       "    </tr>\n",
       "    <tr>\n",
       "      <th>99</th>\n",
       "      <td>1612921158641</td>\n",
       "      <td>84667</td>\n",
       "      <td>58725.0</td>\n",
       "      <td>34504.0</td>\n",
       "    </tr>\n",
       "  </tbody>\n",
       "</table>\n",
       "<p>100 rows × 4 columns</p>\n",
       "</div>"
      ],
      "text/plain": [
       "        timestamp  xQcOW  NICKMERCS  summit1g\n",
       "0   1612915218356  72396        NaN   35144.0\n",
       "1   1612915277899  67165        NaN   34762.0\n",
       "2   1612915337312  73907        NaN   34504.0\n",
       "3   1612915397655  76404        NaN   34505.0\n",
       "4   1612915457875  76404        NaN   35144.0\n",
       "..            ...    ...        ...       ...\n",
       "95  1612920918530  75752    60153.0   22823.0\n",
       "96  1612920978019  86198    24010.0   36330.0\n",
       "97  1612921039478  70673    60837.0   29870.0\n",
       "98  1612921098812  87831    20567.0   30565.0\n",
       "99  1612921158641  84667    58725.0   34504.0\n",
       "\n",
       "[100 rows x 4 columns]"
      ]
     },
     "execution_count": 2,
     "metadata": {},
     "output_type": "execute_result"
    }
   ],
   "source": [
    "df = pd.read_excel(\"Data Analyst Test.xlsx\")\n",
    "df"
   ]
  },
  {
   "cell_type": "markdown",
   "metadata": {},
   "source": [
    "## 1. Create output file"
   ]
  },
  {
   "cell_type": "code",
   "execution_count": 3,
   "metadata": {},
   "outputs": [],
   "source": [
    "output = pd.DataFrame()"
   ]
  },
  {
   "cell_type": "code",
   "execution_count": 4,
   "metadata": {},
   "outputs": [],
   "source": [
    "streamers = [\"xQcOW\",\"NICKMERCS\",\"summit1g\",\"TOTAL\"]"
   ]
  },
  {
   "cell_type": "code",
   "execution_count": 5,
   "metadata": {},
   "outputs": [
    {
     "data": {
      "text/plain": [
       "['xQcOW', 'NICKMERCS', 'summit1g', 'TOTAL']"
      ]
     },
     "execution_count": 5,
     "metadata": {},
     "output_type": "execute_result"
    }
   ],
   "source": [
    "output[\"streamers\"] = streamers\n",
    "streamers"
   ]
  },
  {
   "cell_type": "markdown",
   "metadata": {},
   "source": [
    "## 2. Compute Peak of Viewers"
   ]
  },
  {
   "cell_type": "code",
   "execution_count": 6,
   "metadata": {},
   "outputs": [
    {
     "data": {
      "text/html": [
       "<div>\n",
       "<style scoped>\n",
       "    .dataframe tbody tr th:only-of-type {\n",
       "        vertical-align: middle;\n",
       "    }\n",
       "\n",
       "    .dataframe tbody tr th {\n",
       "        vertical-align: top;\n",
       "    }\n",
       "\n",
       "    .dataframe thead th {\n",
       "        text-align: right;\n",
       "    }\n",
       "</style>\n",
       "<table border=\"1\" class=\"dataframe\">\n",
       "  <thead>\n",
       "    <tr style=\"text-align: right;\">\n",
       "      <th></th>\n",
       "      <th>streamers</th>\n",
       "      <th>peak_viewers</th>\n",
       "    </tr>\n",
       "  </thead>\n",
       "  <tbody>\n",
       "    <tr>\n",
       "      <th>0</th>\n",
       "      <td>xQcOW</td>\n",
       "      <td>87831.0</td>\n",
       "    </tr>\n",
       "    <tr>\n",
       "      <th>1</th>\n",
       "      <td>NICKMERCS</td>\n",
       "      <td>69157.0</td>\n",
       "    </tr>\n",
       "    <tr>\n",
       "      <th>2</th>\n",
       "      <td>summit1g</td>\n",
       "      <td>39279.0</td>\n",
       "    </tr>\n",
       "    <tr>\n",
       "      <th>3</th>\n",
       "      <td>TOTAL</td>\n",
       "      <td>87831.0</td>\n",
       "    </tr>\n",
       "  </tbody>\n",
       "</table>\n",
       "</div>"
      ],
      "text/plain": [
       "   streamers  peak_viewers\n",
       "0      xQcOW       87831.0\n",
       "1  NICKMERCS       69157.0\n",
       "2   summit1g       39279.0\n",
       "3      TOTAL       87831.0"
      ]
     },
     "execution_count": 6,
     "metadata": {},
     "output_type": "execute_result"
    }
   ],
   "source": [
    "#The total of peak viewers are the maximum peak viewers of the list of streamers\n",
    "peak_viewers = [max(df[\"xQcOW\"]), max(df[\"NICKMERCS\"].dropna()), max(df[\"summit1g\"])]\n",
    "peak_viewers.append(max(peak_viewers))\n",
    "output[\"peak_viewers\"] = peak_viewers\n",
    "output"
   ]
  },
  {
   "cell_type": "markdown",
   "metadata": {},
   "source": [
    "## 3. Compute Hours Watched"
   ]
  },
  {
   "cell_type": "code",
   "execution_count": 7,
   "metadata": {},
   "outputs": [
    {
     "data": {
      "text/html": [
       "<div>\n",
       "<style scoped>\n",
       "    .dataframe tbody tr th:only-of-type {\n",
       "        vertical-align: middle;\n",
       "    }\n",
       "\n",
       "    .dataframe tbody tr th {\n",
       "        vertical-align: top;\n",
       "    }\n",
       "\n",
       "    .dataframe thead th {\n",
       "        text-align: right;\n",
       "    }\n",
       "</style>\n",
       "<table border=\"1\" class=\"dataframe\">\n",
       "  <thead>\n",
       "    <tr style=\"text-align: right;\">\n",
       "      <th></th>\n",
       "      <th>streamers</th>\n",
       "      <th>peak_viewers</th>\n",
       "      <th>hours_watched</th>\n",
       "    </tr>\n",
       "  </thead>\n",
       "  <tbody>\n",
       "    <tr>\n",
       "      <th>0</th>\n",
       "      <td>xQcOW</td>\n",
       "      <td>87831.0</td>\n",
       "      <td>132740.533333</td>\n",
       "    </tr>\n",
       "    <tr>\n",
       "      <th>1</th>\n",
       "      <td>NICKMERCS</td>\n",
       "      <td>69157.0</td>\n",
       "      <td>66019.066667</td>\n",
       "    </tr>\n",
       "    <tr>\n",
       "      <th>2</th>\n",
       "      <td>summit1g</td>\n",
       "      <td>39279.0</td>\n",
       "      <td>51529.866667</td>\n",
       "    </tr>\n",
       "    <tr>\n",
       "      <th>3</th>\n",
       "      <td>TOTAL</td>\n",
       "      <td>87831.0</td>\n",
       "      <td>250289.466667</td>\n",
       "    </tr>\n",
       "  </tbody>\n",
       "</table>\n",
       "</div>"
      ],
      "text/plain": [
       "   streamers  peak_viewers  hours_watched\n",
       "0      xQcOW       87831.0  132740.533333\n",
       "1  NICKMERCS       69157.0   66019.066667\n",
       "2   summit1g       39279.0   51529.866667\n",
       "3      TOTAL       87831.0  250289.466667"
      ]
     },
     "execution_count": 7,
     "metadata": {},
     "output_type": "execute_result"
    }
   ],
   "source": [
    "#Hours watched will be the sum of viewers of timestamps (assuming each timestmap is a minute) divided by 60\n",
    "hours_watched = []\n",
    "for x in streamers[:-1]:\n",
    "    hours_watched.append(df[[\"timestamp\",x]].dropna()[x].sum()/60)\n",
    "    \n",
    "hours_watched\n",
    "\n",
    "#The total of hours streamed will be the sum of all the streamers\n",
    "\n",
    "hours_watched.append(sum(hours_watched))\n",
    "hours_watched\n",
    "\n",
    "output[\"hours_watched\"] = hours_watched\n",
    "output"
   ]
  },
  {
   "cell_type": "markdown",
   "metadata": {},
   "source": [
    "## 3. Compute Average viewers"
   ]
  },
  {
   "cell_type": "code",
   "execution_count": 8,
   "metadata": {},
   "outputs": [
    {
     "data": {
      "text/html": [
       "<div>\n",
       "<style scoped>\n",
       "    .dataframe tbody tr th:only-of-type {\n",
       "        vertical-align: middle;\n",
       "    }\n",
       "\n",
       "    .dataframe tbody tr th {\n",
       "        vertical-align: top;\n",
       "    }\n",
       "\n",
       "    .dataframe thead th {\n",
       "        text-align: right;\n",
       "    }\n",
       "</style>\n",
       "<table border=\"1\" class=\"dataframe\">\n",
       "  <thead>\n",
       "    <tr style=\"text-align: right;\">\n",
       "      <th></th>\n",
       "      <th>streamers</th>\n",
       "      <th>peak_viewers</th>\n",
       "      <th>hours_watched</th>\n",
       "      <th>avg_viewers</th>\n",
       "    </tr>\n",
       "  </thead>\n",
       "  <tbody>\n",
       "    <tr>\n",
       "      <th>0</th>\n",
       "      <td>xQcOW</td>\n",
       "      <td>87831.0</td>\n",
       "      <td>132740.533333</td>\n",
       "      <td>79644.320000</td>\n",
       "    </tr>\n",
       "    <tr>\n",
       "      <th>1</th>\n",
       "      <td>NICKMERCS</td>\n",
       "      <td>69157.0</td>\n",
       "      <td>66019.066667</td>\n",
       "      <td>47724.626506</td>\n",
       "    </tr>\n",
       "    <tr>\n",
       "      <th>2</th>\n",
       "      <td>summit1g</td>\n",
       "      <td>39279.0</td>\n",
       "      <td>51529.866667</td>\n",
       "      <td>35134.000000</td>\n",
       "    </tr>\n",
       "    <tr>\n",
       "      <th>3</th>\n",
       "      <td>TOTAL</td>\n",
       "      <td>87831.0</td>\n",
       "      <td>250289.466667</td>\n",
       "      <td>54167.648835</td>\n",
       "    </tr>\n",
       "  </tbody>\n",
       "</table>\n",
       "</div>"
      ],
      "text/plain": [
       "   streamers  peak_viewers  hours_watched   avg_viewers\n",
       "0      xQcOW       87831.0  132740.533333  79644.320000\n",
       "1  NICKMERCS       69157.0   66019.066667  47724.626506\n",
       "2   summit1g       39279.0   51529.866667  35134.000000\n",
       "3      TOTAL       87831.0  250289.466667  54167.648835"
      ]
     },
     "execution_count": 8,
     "metadata": {},
     "output_type": "execute_result"
    }
   ],
   "source": [
    "#The average viewers will be the average of non null timestamps (if a streamer is not streaming we do not count 0 viewers)\n",
    "avg_viewers = []\n",
    "for x in streamers[:-1]:\n",
    "    avg_viewers.append(df[[x]].dropna().mean()[0])\n",
    "    \n",
    "avg_viewers\n",
    "\n",
    "#The total average will be the average of the average viewers of each streamer\n",
    "\n",
    "avg_viewers.append(sum(avg_viewers)/len(avg_viewers))\n",
    "avg_viewers\n",
    "\n",
    "output[\"avg_viewers\"] = avg_viewers\n",
    "output"
   ]
  },
  {
   "cell_type": "code",
   "execution_count": 9,
   "metadata": {},
   "outputs": [
    {
     "data": {
      "text/html": [
       "<div>\n",
       "<style scoped>\n",
       "    .dataframe tbody tr th:only-of-type {\n",
       "        vertical-align: middle;\n",
       "    }\n",
       "\n",
       "    .dataframe tbody tr th {\n",
       "        vertical-align: top;\n",
       "    }\n",
       "\n",
       "    .dataframe thead th {\n",
       "        text-align: right;\n",
       "    }\n",
       "</style>\n",
       "<table border=\"1\" class=\"dataframe\">\n",
       "  <thead>\n",
       "    <tr style=\"text-align: right;\">\n",
       "      <th></th>\n",
       "      <th>0</th>\n",
       "      <th>1</th>\n",
       "      <th>2</th>\n",
       "      <th>3</th>\n",
       "    </tr>\n",
       "  </thead>\n",
       "  <tbody>\n",
       "    <tr>\n",
       "      <th>streamers</th>\n",
       "      <td>xQcOW</td>\n",
       "      <td>NICKMERCS</td>\n",
       "      <td>summit1g</td>\n",
       "      <td>TOTAL</td>\n",
       "    </tr>\n",
       "    <tr>\n",
       "      <th>peak_viewers</th>\n",
       "      <td>87831</td>\n",
       "      <td>69157</td>\n",
       "      <td>39279</td>\n",
       "      <td>87831</td>\n",
       "    </tr>\n",
       "    <tr>\n",
       "      <th>hours_watched</th>\n",
       "      <td>132741</td>\n",
       "      <td>66019.1</td>\n",
       "      <td>51529.9</td>\n",
       "      <td>250289</td>\n",
       "    </tr>\n",
       "    <tr>\n",
       "      <th>avg_viewers</th>\n",
       "      <td>79644.3</td>\n",
       "      <td>47724.6</td>\n",
       "      <td>35134</td>\n",
       "      <td>54167.6</td>\n",
       "    </tr>\n",
       "  </tbody>\n",
       "</table>\n",
       "</div>"
      ],
      "text/plain": [
       "                     0          1         2        3\n",
       "streamers        xQcOW  NICKMERCS  summit1g    TOTAL\n",
       "peak_viewers     87831      69157     39279    87831\n",
       "hours_watched   132741    66019.1   51529.9   250289\n",
       "avg_viewers    79644.3    47724.6     35134  54167.6"
      ]
     },
     "execution_count": 9,
     "metadata": {},
     "output_type": "execute_result"
    }
   ],
   "source": [
    "OUTPUT = output.T\n",
    "OUTPUT"
   ]
  },
  {
   "cell_type": "code",
   "execution_count": 10,
   "metadata": {},
   "outputs": [],
   "source": [
    "OUTPUT.to_csv(\"OUTPUT.csv\", header = False)"
   ]
  },
  {
   "cell_type": "code",
   "execution_count": null,
   "metadata": {},
   "outputs": [],
   "source": []
  }
 ],
 "metadata": {
  "kernelspec": {
   "display_name": "Python 3",
   "language": "python",
   "name": "python3"
  },
  "language_info": {
   "codemirror_mode": {
    "name": "ipython",
    "version": 3
   },
   "file_extension": ".py",
   "mimetype": "text/x-python",
   "name": "python",
   "nbconvert_exporter": "python",
   "pygments_lexer": "ipython3",
   "version": "3.7.6"
  }
 },
 "nbformat": 4,
 "nbformat_minor": 4
}
